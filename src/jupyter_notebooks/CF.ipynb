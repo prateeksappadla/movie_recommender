{
 "cells": [
  {
   "cell_type": "code",
   "execution_count": 1,
   "metadata": {
    "collapsed": true
   },
   "outputs": [],
   "source": [
    "#Requirements: Numpy 1.12\n",
    "\n",
    "import numpy as np\n",
    "import pandas as pd"
   ]
  },
  {
   "cell_type": "code",
   "execution_count": 2,
   "metadata": {
    "collapsed": false
   },
   "outputs": [
    {
     "name": "stdout",
     "output_type": "stream",
     "text": [
      "Number of unique users: 671\n",
      "Number of unique movies: 9066\n"
     ]
    }
   ],
   "source": [
    "# Read dataset\n",
    "df = pd.read_csv('./data/ml-small/ratings.csv')\n",
    "\n",
    "n_users = df['userId'].unique().shape[0]\n",
    "n_items = df['movieId'].unique().shape[0]\n",
    "print(\"Number of unique users: %d\" % n_users)\n",
    "print(\"Number of unique movies: %d\" % n_items)"
   ]
  },
  {
   "cell_type": "code",
   "execution_count": 3,
   "metadata": {
    "collapsed": false
   },
   "outputs": [],
   "source": [
    "# Create a dictionary from movieId to index\n",
    "ind = 0\n",
    "movie_dict = {}\n",
    "movie_list = []\n",
    "\n",
    "for item in df['movieId'].unique():\n",
    "    movie_list.append(item)\n",
    "    movie_dict[item] = ind\n",
    "    ind += 1    "
   ]
  },
  {
   "cell_type": "code",
   "execution_count": 57,
   "metadata": {
    "collapsed": true
   },
   "outputs": [],
   "source": [
    "# Create user-item ratings matrix\n",
    "ratings = np.zeros((n_users, n_items))\n",
    "\n",
    "# df.itertuples() returns a Pandas Frame object\n",
    "for row in df.itertuples():\n",
    "    ratings[row[1] - 1, movie_dict[row[2]]] = row[3]"
   ]
  },
  {
   "cell_type": "code",
   "execution_count": 5,
   "metadata": {
    "collapsed": false
   },
   "outputs": [],
   "source": [
    "# Split data into training and test sets by removing 10 ratings per user from the training set and adding to test set \n",
    "def train_test_split(ratings):\n",
    "    test = np.zeros(ratings.shape)\n",
    "    train = ratings.copy()\n",
    "    for user in range(ratings.shape[0]):\n",
    "        test_ratings = np.random.choice(ratings[user, :].nonzero()[0], \n",
    "                                        size=10, \n",
    "                                        replace=False)\n",
    "        train[user, test_ratings] = 0.\n",
    "        test[user, test_ratings] = ratings[user, test_ratings]\n",
    "        \n",
    "    # Test and training are truly disjoint\n",
    "    assert(np.all((train * test) == 0)) \n",
    "    return train, test\n",
    "\n",
    "train, test = train_test_split(ratings)"
   ]
  },
  {
   "cell_type": "code",
   "execution_count": 29,
   "metadata": {
    "collapsed": true
   },
   "outputs": [],
   "source": [
    "# Method to compute cosine similarity between users / between items \n",
    "def similarity(ratings, kind='user', epsilon=1e-9):\n",
    "    # epsilon -> small number for handling dived-by-zero errors\n",
    "    if kind == 'user':\n",
    "        sim = ratings.dot(ratings.T) + epsilon\n",
    "    elif kind == 'item':\n",
    "        sim = ratings.T.dot(ratings) + epsilon\n",
    "    norms = np.array([np.sqrt(np.diagonal(sim))])\n",
    "    return (sim / norms / norms.T)"
   ]
  },
  {
   "cell_type": "code",
   "execution_count": 14,
   "metadata": {
    "collapsed": false
   },
   "outputs": [
    {
     "name": "stdout",
     "output_type": "stream",
     "text": [
      "[[-0.67857143 -0.70238095 -0.54545455 -1.3125     -0.26086957]\n",
      " [-0.         -0.         -0.         -0.         -0.        ]\n",
      " [-0.         -0.         -0.         -0.         -0.        ]\n",
      " [-0.         -0.         -0.         -0.         -0.        ]\n",
      " [-0.         -0.         -0.         -0.         -0.        ]]\n",
      "[1 1 1 1 1]\n",
      "1.12.1\n",
      "(671, 9066)\n"
     ]
    }
   ],
   "source": [
    "non_zero = np.nonzero(ratings[:5,:5])\n",
    "print(ratings[:5,:5])\n",
    "# print(non_zero)\n",
    "# print((ratings[:5,0] != 0).astype(int))\n",
    "print(np.count_nonzero(ratings[:5,:5],axis=0))\n",
    "print(np.__version__)\n",
    "print(ratings.shape)"
   ]
  },
  {
   "cell_type": "code",
   "execution_count": 17,
   "metadata": {
    "collapsed": true
   },
   "outputs": [],
   "source": [
    "# Methods to compute item-item centered cosine similarity matrix given the user-item ratings matrix\n",
    "def centered_cosine_similarity(ratings, epsilon=1e-9):\n",
    "    centered_ratings = np.zeros(ratings.shape)\n",
    "    for j in range(ratings.shape[1]):\n",
    "        # Add epsilon in denominator for numerical stability (in case all ratings are zero for some item)\n",
    "        avg = np.sum(ratings[:,j]) / (np.count_nonzero(ratings[:,j]) + epsilon)\n",
    "        non_zero = (ratings[:,j] != 0).astype(int) \n",
    "        centered_ratings[:,j] = ratings[:,j] - avg \n",
    "        centered_ratings[:,j] = ratings[:,j] * non_zero \n",
    "        \n",
    "    sim = centered_ratings.T.dot(centered_ratings) + epsilon\n",
    "    norms = np.array([np.sqrt(np.diagonal(sim))])\n",
    "    return (sim / norms / norms.T)\n",
    "\n",
    "def vec_centered_cosine_similarity(ratings, epsilon=1e-9):\n",
    "    # Add epsilon in denominator for numerical stability (in case all ratings are zero for some item)       \n",
    "    avg = np.sum(ratings,axis=0,dtype=np.float64) / (np.count_nonzero(ratings, axis=0) + epsilon)\n",
    "    non_zero = (ratings != 0).astype(int)\n",
    "    centered_ratings = ratings - avg.T\n",
    "    centered_ratings *= non_zero\n",
    "    #print(centered_ratings[:5,:5])\n",
    "    \n",
    "    sim = centered_ratings.T.dot(centered_ratings) + epsilon\n",
    "    norms = np.array([np.sqrt(np.diagonal(sim))])\n",
    "    return (sim / norms / norms.T)"
   ]
  },
  {
   "cell_type": "code",
   "execution_count": 18,
   "metadata": {
    "collapsed": false
   },
   "outputs": [],
   "source": [
    "item_sim = centered_cosine_similarity(ratings)"
   ]
  },
  {
   "cell_type": "code",
   "execution_count": 23,
   "metadata": {
    "collapsed": false
   },
   "outputs": [
    {
     "name": "stdout",
     "output_type": "stream",
     "text": [
      "1 loop, best of 3: 2.95 s per loop\n"
     ]
    }
   ],
   "source": [
    "%timeit centered_cosine_similarity(ratings)"
   ]
  },
  {
   "cell_type": "code",
   "execution_count": 19,
   "metadata": {
    "collapsed": false
   },
   "outputs": [],
   "source": [
    "item_sim_vec = vec_centered_cosine_similarity(ratings)"
   ]
  },
  {
   "cell_type": "code",
   "execution_count": 24,
   "metadata": {
    "collapsed": false
   },
   "outputs": [
    {
     "name": "stdout",
     "output_type": "stream",
     "text": [
      "1 loop, best of 3: 2.59 s per loop\n"
     ]
    }
   ],
   "source": [
    "%timeit vec_centered_cosine_similarity(ratings)"
   ]
  },
  {
   "cell_type": "code",
   "execution_count": 22,
   "metadata": {
    "collapsed": false
   },
   "outputs": [
    {
     "name": "stdout",
     "output_type": "stream",
     "text": [
      "[[  0.00000000e+00   0.00000000e+00  -1.38777878e-17  -1.38777878e-17\n",
      "   -3.12250226e-17  -4.16333634e-17  -2.77555756e-17  -2.77555756e-17\n",
      "   -1.64798730e-17   0.00000000e+00]\n",
      " [  0.00000000e+00   0.00000000e+00   0.00000000e+00   2.77555756e-17\n",
      "   -4.16333634e-17  -4.16333634e-17   4.16333634e-17   6.93889390e-18\n",
      "    2.42861287e-17   6.93889390e-18]\n",
      " [ -2.08166817e-17   2.77555756e-17   0.00000000e+00   0.00000000e+00\n",
      "    0.00000000e+00   2.08166817e-17   0.00000000e+00  -1.73472348e-17\n",
      "    5.20417043e-18   6.93889390e-18]\n",
      " [ -1.38777878e-17   1.38777878e-17   0.00000000e+00   0.00000000e+00\n",
      "    2.77555756e-17  -5.55111512e-17   0.00000000e+00  -5.55111512e-17\n",
      "   -2.77555756e-17   0.00000000e+00]\n",
      " [ -2.77555756e-17  -4.16333634e-17   1.38777878e-17   2.77555756e-17\n",
      "    0.00000000e+00   0.00000000e+00   0.00000000e+00  -3.46944695e-17\n",
      "    3.46944695e-17   4.16333634e-17]\n",
      " [ -2.77555756e-17  -6.93889390e-17   2.77555756e-17  -5.55111512e-17\n",
      "    0.00000000e+00  -1.11022302e-16   0.00000000e+00  -5.55111512e-17\n",
      "    0.00000000e+00  -1.38777878e-17]\n",
      " [ -1.38777878e-17   4.16333634e-17   0.00000000e+00   0.00000000e+00\n",
      "    0.00000000e+00  -1.38777878e-17   0.00000000e+00   0.00000000e+00\n",
      "   -1.38777878e-17   0.00000000e+00]\n",
      " [ -2.77555756e-17   1.38777878e-17  -1.90819582e-17  -5.55111512e-17\n",
      "   -3.46944695e-17  -5.55111512e-17   0.00000000e+00   0.00000000e+00\n",
      "   -6.93889390e-18  -3.46944695e-17]\n",
      " [ -1.64798730e-17   2.42861287e-17   5.20417043e-18  -2.77555756e-17\n",
      "    2.77555756e-17   0.00000000e+00  -1.38777878e-17  -3.46944695e-18\n",
      "    0.00000000e+00   0.00000000e+00]\n",
      " [  0.00000000e+00   1.38777878e-17   6.93889390e-18   0.00000000e+00\n",
      "    4.16333634e-17  -1.38777878e-17   0.00000000e+00  -3.46944695e-17\n",
      "    0.00000000e+00   0.00000000e+00]]\n",
      "0.0\n"
     ]
    }
   ],
   "source": [
    "# Check if the similarity matrices computed using both non-vectorized and vectorized methods is the same\n",
    "import numpy.linalg as linalg\n",
    "diff_mat = item_sim - item_sim_vec\n",
    "diff_norm = linalg.norm(item_sim) - linalg.norm(item_sim_vec)\n",
    "print(diff_mat[:10,:10])\n",
    "print(diff_norm)"
   ]
  },
  {
   "cell_type": "code",
   "execution_count": 34,
   "metadata": {
    "collapsed": false
   },
   "outputs": [
    {
     "name": "stdout",
     "output_type": "stream",
     "text": [
      "(9017,)\n",
      "0\n"
     ]
    }
   ],
   "source": [
    "# Get the indices of the zero elements in the array\n",
    "zero_indices = np.where(ratings[2,:] == 0.)[0]\n",
    "print(zero_indices.shape)\n"
   ]
  },
  {
   "cell_type": "code",
   "execution_count": 50,
   "metadata": {
    "collapsed": false
   },
   "outputs": [
    {
     "name": "stdout",
     "output_type": "stream",
     "text": [
      "[ 707 1538 4951 1070 6505 3264 2524 3678 2703 5598 7402 7155 7314 5888 4716\n",
      " 2898 5571 6984 3190 5899 3748  390 1623 3012 4988 2848 1754 1046 3752 2431\n",
      " 2339  338 3774 1722  657 2675 3709 3900 1494 5496 5685  273 4291  558 4031\n",
      " 1602 1417 6300  422    0]\n",
      "[390]\n"
     ]
    }
   ],
   "source": [
    "top_k = np.argsort(item_sim_vec[0,:])[-50:]\n",
    "print(top_k)\n",
    "\n",
    "# Indices of movies among top k similar movies for which the user has provided ratings\n",
    "print(top_k[np.nonzero(ratings[5][top_k])[0]])"
   ]
  },
  {
   "cell_type": "code",
   "execution_count": 51,
   "metadata": {
    "collapsed": false
   },
   "outputs": [
    {
     "data": {
      "text/plain": [
       "array([3064, 2335, 2911, 2878,  546, 2684, 3233,  293, 2630, 5137, 4438,\n",
       "       3158, 3671, 4826, 5526, 5720, 3136, 3142, 5553, 5549])"
      ]
     },
     "execution_count": 51,
     "metadata": {},
     "output_type": "execute_result"
    }
   ],
   "source": [
    "# Method to retrieve recommendations for a user given the userId\n",
    "\n",
    "def get_recommendations(user_id, k=100,epsilon=1e-9):\n",
    "    pred = np.zeros((ratings.shape[1]))\n",
    "    user_ratings = ratings[user_id,:]\n",
    "    zero_indices = np.where(user_ratings == 0.)[0]\n",
    "    for j in zero_indices:\n",
    "        # Retrieve indices of top-k similar movies to this movie\n",
    "        top_k_items = np.argsort(item_sim_vec[j,:])[-k:]\n",
    "        \n",
    "        top_k_with_non_zero = np.sum(item_sim_vec[j,:][top_k_items[np.nonzero(ratings[user_id][top_k_items])[0]]]) + epsilon\n",
    "        \n",
    "        pred[j] = user_ratings[top_k_items].dot(item_sim_vec[:,j][top_k_items])\n",
    "        pred[j] /= top_k_with_non_zero \n",
    "     \n",
    "    #Return the top 20 recommendations for this user. Change the 20 to be a parameter to this method\n",
    "    return np.argsort(pred)[-20:]\n",
    "\n",
    "get_recommendations(0)\n",
    "        "
   ]
  },
  {
   "cell_type": "code",
   "execution_count": 58,
   "metadata": {
    "collapsed": false
   },
   "outputs": [
    {
     "name": "stdout",
     "output_type": "stream",
     "text": [
      "3.54360825567\n",
      "-0.993608255797\n",
      "[-0.09278858  0.38081035  0.00639174  0.49121761  0.82703851  0.09364665\n",
      "  0.14604692  0.40156718 -0.21668518  0.35889174 -0.76066252  0.28764174\n",
      " -0.09994628 -0.42732919 -0.44066708 -0.66860826 -0.79139587  0.38820993\n",
      "  0.4196945  -0.37053133  0.3602379  -0.3897621  -0.14760826  0.17207802\n",
      "  0.335424   -0.05730689  0.45639174 -0.41397863 -0.23451735  0.71256458]\n",
      "[ 0.          0.          0.          0.          0.          0.          0.\n",
      "  0.          0.          0.          0.          0.          0.          0.\n",
      "  0.          0.          0.          0.          0.          0.\n",
      "  2.45721142  2.93081035  2.55639174  3.04121761  3.37703851  2.64364665\n",
      "  2.69604692  2.95156718  2.33331482  2.90889174  1.78933748  2.83764174\n",
      "  2.45005372  2.12267081  2.10933292  1.88139174  1.75860413  2.93820993\n",
      "  2.9696945   2.17946867  2.9102379   2.1602379   2.40239174  2.72207802\n",
      "  2.885424    2.49269311  3.00639174  2.13602137  2.31548265  3.26256458\n",
      "  2.75639174  2.94756821  1.97067746  2.98007595  2.4469858   2.79334827\n",
      "  2.33496317  3.06064394  2.69081797  2.78389174  2.07645544  2.05863055\n",
      "  2.25639174  2.06521527  2.57305841  2.1116549   1.31889174  2.15707668\n",
      "  2.47911902  2.95944339  2.30942205  2.86889174  2.71259612  1.8931842\n",
      "  2.98972508  2.47371201  2.6749964   2.75639174  3.04987     3.30967043\n",
      "  2.05639174  2.43439174  2.27911902  2.65639174  2.14639174  2.07956248\n",
      "  2.11879484  2.33178857  2.68081035  3.01272086  2.72421353  2.40435093\n",
      "  3.14454964  2.47067746  2.63846722  3.00639174  1.83451674  2.65755453\n",
      "  1.73716097  3.49353001]\n"
     ]
    }
   ],
   "source": [
    "# Add Global Baseline\n",
    "def get_global_baseline(user_id, epsilon=1e-9):\n",
    "    global_avg = np.sum(ratings) / np.count_nonzero(ratings) \n",
    "    #print(global_avg)\n",
    "    \n",
    "    user_avg = np.sum(ratings[user_id,:]) / (np.count_nonzero(ratings[user_id,:]) + epsilon)\n",
    "    user_bias = user_avg - global_avg\n",
    "    #print(user_bias)\n",
    "    \n",
    "    movie_avg = np.sum(ratings, axis=0) / (np.count_nonzero(ratings,axis=0) + epsilon)\n",
    "    movie_bias = movie_avg - global_avg\n",
    "    #print(movie_bias[20:50])\n",
    "    \n",
    "    pred = np.zeros((ratings.shape[1]))\n",
    "    zero_indices = np.where(ratings[user_id,:] == 0.)[0]\n",
    "    for j in zero_indices:\n",
    "        pred[j] = global_avg + movie_bias[j] + user_bias\n",
    "        \n",
    "    return pred    \n",
    "\n",
    "pred = get_global_baseline(0)\n",
    "print(pred[:100])\n",
    "\n",
    "# Adjust for bias of user "
   ]
  },
  {
   "cell_type": "code",
   "execution_count": null,
   "metadata": {
    "collapsed": true
   },
   "outputs": [],
   "source": []
  }
 ],
 "metadata": {
  "anaconda-cloud": {},
  "kernelspec": {
   "display_name": "Python [conda root]",
   "language": "python",
   "name": "conda-root-py"
  },
  "language_info": {
   "codemirror_mode": {
    "name": "ipython",
    "version": 3
   },
   "file_extension": ".py",
   "mimetype": "text/x-python",
   "name": "python",
   "nbconvert_exporter": "python",
   "pygments_lexer": "ipython3",
   "version": "3.5.2"
  }
 },
 "nbformat": 4,
 "nbformat_minor": 1
}
