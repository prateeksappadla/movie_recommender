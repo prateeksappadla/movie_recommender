{
 "cells": [
  {
   "cell_type": "code",
   "execution_count": 1,
   "metadata": {
    "collapsed": true
   },
   "outputs": [],
   "source": [
    "import numpy as np\n",
    "import pandas as pd\n",
    "from sklearn.metrics import mean_squared_error"
   ]
  },
  {
   "cell_type": "code",
   "execution_count": 2,
   "metadata": {
    "collapsed": false
   },
   "outputs": [
    {
     "name": "stdout",
     "output_type": "stream",
     "text": [
      "Number of unique users: 138493\n",
      "Number of unique movies: 26744\n"
     ]
    }
   ],
   "source": [
    "filename = './data/ml-20m/ratings.csv'\n",
    "df = pd.read_csv(filename)\n",
    "\n",
    "n_users = df['userId'].unique().shape[0]\n",
    "n_items = df['movieId'].unique().shape[0]\n",
    "print(\"Number of unique users: %d\" % n_users)\n",
    "print(\"Number of unique movies: %d\" % n_items)"
   ]
  },
  {
   "cell_type": "code",
   "execution_count": 3,
   "metadata": {
    "collapsed": false
   },
   "outputs": [
    {
     "name": "stdout",
     "output_type": "stream",
     "text": [
      "<bound method NDFrame.head of           userId  movieId  rating   timestamp\n",
      "0              1        2     3.5  1112486027\n",
      "1              1       29     3.5  1112484676\n",
      "2              1       32     3.5  1112484819\n",
      "3              1       47     3.5  1112484727\n",
      "4              1       50     3.5  1112484580\n",
      "5              1      112     3.5  1094785740\n",
      "6              1      151     4.0  1094785734\n",
      "7              1      223     4.0  1112485573\n",
      "8              1      253     4.0  1112484940\n",
      "9              1      260     4.0  1112484826\n",
      "10             1      293     4.0  1112484703\n",
      "11             1      296     4.0  1112484767\n",
      "12             1      318     4.0  1112484798\n",
      "13             1      337     3.5  1094785709\n",
      "14             1      367     3.5  1112485980\n",
      "15             1      541     4.0  1112484603\n",
      "16             1      589     3.5  1112485557\n",
      "17             1      593     3.5  1112484661\n",
      "18             1      653     3.0  1094785691\n",
      "19             1      919     3.5  1094785621\n",
      "20             1      924     3.5  1094785598\n",
      "21             1     1009     3.5  1112486013\n",
      "22             1     1036     4.0  1112485480\n",
      "23             1     1079     4.0  1094785665\n",
      "24             1     1080     3.5  1112485375\n",
      "25             1     1089     3.5  1112484669\n",
      "26             1     1090     4.0  1112485453\n",
      "27             1     1097     4.0  1112485701\n",
      "28             1     1136     3.5  1112484609\n",
      "29             1     1193     3.5  1112484690\n",
      "...          ...      ...     ...         ...\n",
      "20000233  138493    50872     3.5  1256750388\n",
      "20000234  138493    51086     3.5  1255810566\n",
      "20000235  138493    51662     4.5  1255856908\n",
      "20000236  138493    51884     4.5  1256294768\n",
      "20000237  138493    52579     4.0  1255856957\n",
      "20000238  138493    52975     4.0  1256680293\n",
      "20000239  138493    53123     4.0  1255816320\n",
      "20000240  138493    53125     3.0  1255810649\n",
      "20000241  138493    53322     4.0  1255812146\n",
      "20000242  138493    53464     4.0  1260209920\n",
      "20000243  138493    53996     4.5  1259865104\n",
      "20000244  138493    55269     5.0  1255816088\n",
      "20000245  138493    55814     5.0  1255811181\n",
      "20000246  138493    56757     3.0  1255810698\n",
      "20000247  138493    56801     3.0  1255809988\n",
      "20000248  138493    58879     4.5  1255816798\n",
      "20000249  138493    59315     4.0  1255818138\n",
      "20000250  138493    59725     3.0  1255818078\n",
      "20000251  138493    59784     5.0  1255816901\n",
      "20000252  138493    60069     4.0  1258134687\n",
      "20000253  138493    60816     4.5  1259865163\n",
      "20000254  138493    61160     4.0  1258390537\n",
      "20000255  138493    65682     4.5  1255816373\n",
      "20000256  138493    66762     4.5  1255805408\n",
      "20000257  138493    68319     4.5  1260209720\n",
      "20000258  138493    68954     4.5  1258126920\n",
      "20000259  138493    69526     4.5  1259865108\n",
      "20000260  138493    69644     3.0  1260209457\n",
      "20000261  138493    70286     5.0  1258126944\n",
      "20000262  138493    71619     2.5  1255811136\n",
      "\n",
      "[20000263 rows x 4 columns]>\n"
     ]
    }
   ],
   "source": [
    "print(df.head)"
   ]
  },
  {
   "cell_type": "code",
   "execution_count": 3,
   "metadata": {
    "collapsed": false
   },
   "outputs": [
    {
     "name": "stdout",
     "output_type": "stream",
     "text": [
      "(18000237, 4)\n",
      "(2000026, 4)\n"
     ]
    }
   ],
   "source": [
    "import scipy.sparse as sparse\n",
    "\n",
    "# Split the data into two parts, train and test. Randomly sample 10% of the entries in the csv file as test data and \n",
    "# the rest of the data will be used as training data\n",
    "\n",
    "# Also create a validation partition for tuning the hyperparameters\n",
    "df_train = df.sample(frac=0.9)\n",
    "df_test = df.loc[~df.index.isin(df_train.index)]\n",
    "print(df_train.shape)\n",
    "print(df_test.shape)"
   ]
  },
  {
   "cell_type": "code",
   "execution_count": 4,
   "metadata": {
    "collapsed": false
   },
   "outputs": [
    {
     "name": "stdout",
     "output_type": "stream",
     "text": [
      "(26744,)\n",
      "26744\n"
     ]
    }
   ],
   "source": [
    "# README file for the dataset: http://files.grouplens.org/datasets/movielens/ml-20m-README.html\n",
    "# User-ids are in the range (1, 138493). We just subract 1 from each userId to convert the range to (0,138492)\n",
    "# Total number of movies are 27278 but the the range of movieIds is bigger than (1,27278)\n",
    "# We need to map the movieIds to the range (0,27277)\n",
    "# Only movies with at least one rating or tag are included in the dataset. As we see above, the number of unique movies\n",
    "# for which we have atleast one rating is 26744 \n",
    "\n",
    "print(df['movieId'].unique().shape)\n",
    "ind = 0\n",
    "movie_list = [] # List which is reverse of movie_dict, contains original movieId at index 'new id'\n",
    "movie_dict = {}   # Dictionary from original movieId to new id\n",
    "for movieId in df['movieId'].unique():\n",
    "    movie_list.append(movieId)\n",
    "    movie_dict[movieId] = ind\n",
    "    ind += 1\n",
    "\n",
    "print(len(movie_list))        "
   ]
  },
  {
   "cell_type": "code",
   "execution_count": 5,
   "metadata": {
    "collapsed": false
   },
   "outputs": [
    {
     "name": "stdout",
     "output_type": "stream",
     "text": [
      "18000237\n",
      "18000237\n",
      "18000237\n"
     ]
    }
   ],
   "source": [
    "# Create sparse matrix for the training data\n",
    "print(len(df_train['movieId'].tolist()))\n",
    "\n",
    "movie_id_list = list(map(lambda x: movie_dict[x], df_train['movieId'].tolist()))\n",
    "print(len(movie_id_list))\n",
    "user_id_list = list(map(lambda x: x - 1, df_train['userId'].tolist()))\n",
    "print(len(user_id_list))"
   ]
  },
  {
   "cell_type": "code",
   "execution_count": 16,
   "metadata": {
    "collapsed": false
   },
   "outputs": [
    {
     "name": "stdout",
     "output_type": "stream",
     "text": [
      "2000026\n",
      "2000026\n"
     ]
    }
   ],
   "source": [
    "# Create sparse matrix for the test data\n",
    "print(len(df_test['movieId'].tolist()))\n",
    "\n",
    "test_movie_id_list = list(map(lambda x: movie_dict[x], df_test['movieId'].tolist()))\n",
    "#print(len(test_movie_id_list))\n",
    "test_user_id_list = list(map(lambda x: x - 1, df_test['userId'].tolist()))\n",
    "#print(len(test_user_id_list))\n",
    "\n",
    "sparse_test = sparse.coo_matrix((df_test['rating'].tolist(), (test_user_id_list,test_movie_id_list)),shape=(n_users,n_items))\n",
    "print(sparse_test.nnz)"
   ]
  },
  {
   "cell_type": "code",
   "execution_count": 6,
   "metadata": {
    "collapsed": false
   },
   "outputs": [
    {
     "name": "stdout",
     "output_type": "stream",
     "text": [
      "(138493, 26744)\n",
      "18000237\n"
     ]
    }
   ],
   "source": [
    "sparse_train = sparse.coo_matrix((df_train['rating'].tolist(),(user_id_list, movie_id_list)),shape=(n_users,n_items))\n",
    "print(sparse_train.shape)\n",
    "print(sparse_train.nnz)"
   ]
  },
  {
   "cell_type": "code",
   "execution_count": 7,
   "metadata": {
    "collapsed": false
   },
   "outputs": [
    {
     "name": "stdout",
     "output_type": "stream",
     "text": [
      "(138493, 1)\n"
     ]
    }
   ],
   "source": [
    "user_sum = sparse_train.sum(axis=1)\n",
    "print(user_sum.shape)"
   ]
  },
  {
   "cell_type": "code",
   "execution_count": 8,
   "metadata": {
    "collapsed": false
   },
   "outputs": [
    {
     "name": "stdout",
     "output_type": "stream",
     "text": [
      "<class 'numpy.ndarray'>\n",
      "<class 'numpy.ndarray'>\n",
      "<class 'numpy.ndarray'>\n",
      "(18000237,)\n",
      "(138494,)\n"
     ]
    }
   ],
   "source": [
    "sparse_train_csr = sparse_train.tocsr()\n",
    "data = sparse_train_csr.data\n",
    "indices = sparse_train_csr.indices\n",
    "indptr = sparse_train_csr.indptr\n",
    "print(type(data))\n",
    "print(type(indices))\n",
    "print(type(indptr))\n",
    "print(indices.shape)\n",
    "print(indptr.shape)"
   ]
  },
  {
   "cell_type": "code",
   "execution_count": 9,
   "metadata": {
    "collapsed": false
   },
   "outputs": [
    {
     "name": "stdout",
     "output_type": "stream",
     "text": [
      "(18000237,)\n",
      "[ 3.74842767  3.74842767  3.74842767  3.74842767  3.74842767  3.74842767\n",
      "  3.74842767  3.74842767  3.74842767  3.74842767  3.74842767  3.74842767\n",
      "  3.74842767  3.74842767  3.74842767  3.74842767  3.74842767  3.74842767\n",
      "  3.74842767  3.74842767  3.74842767  3.74842767  3.74842767  3.74842767\n",
      "  3.74842767]\n",
      "[ 3.5  3.5  3.5  3.5  3.5  4.   4.   4.   4.   4. ] [ 3.74842767  3.74842767  3.74842767  3.74842767  3.74842767  3.74842767\n",
      "  3.74842767  3.74842767  3.74842767  3.74842767] [-0.24842767 -0.24842767 -0.24842767 -0.24842767 -0.24842767  0.25157233\n",
      "  0.25157233  0.25157233  0.25157233  0.25157233]\n"
     ]
    }
   ],
   "source": [
    "data_useravg = np.empty(shape=data.shape,dtype=np.float64)\n",
    "print(data_useravg.shape)\n",
    "\n",
    "# Compute the average rating for each user\n",
    "for user_num in range(indptr.shape[0] - 1):\n",
    "    data_useravg[indptr[user_num]: indptr[user_num + 1]] = user_sum[user_num,0] / (indptr[user_num + 1] - indptr[user_num])\n",
    "    \n",
    "print(data_useravg[:25]) \n",
    "\n",
    "data_centered = data - data_useravg\n",
    "print(data[:10] , data_useravg[:10], data_centered[:10])"
   ]
  },
  {
   "cell_type": "code",
   "execution_count": 10,
   "metadata": {
    "collapsed": false
   },
   "outputs": [
    {
     "name": "stdout",
     "output_type": "stream",
     "text": [
      "18000237\n",
      "(138493, 26744)\n"
     ]
    }
   ],
   "source": [
    "# Create sparse CSR matrix of centered user data\n",
    "sparse_train_ucentered = sparse.csr_matrix((data_centered,indices,indptr),shape=(n_users,n_items))\n",
    "\n",
    "print(sparse_train_ucentered.nnz)\n",
    "print(sparse_train_ucentered.shape)"
   ]
  },
  {
   "cell_type": "code",
   "execution_count": 14,
   "metadata": {
    "collapsed": true
   },
   "outputs": [],
   "source": [
    "def latent_factor(sparse_ratings_coo, k=500, lambda1=1, lambda2=1, epochs=50, lr=0.1):\n",
    "    \n",
    "    # Initialize the latent factor matrices randomly\n",
    "    Q = np.random.uniform(0,0.1,size=(sparse_ratings_coo.shape[0],k))\n",
    "    P = np.random.uniform(0,0.1,size=(sparse_ratings_coo.shape[1],k))\n",
    "    \n",
    "    for ep in range(1,epochs+1):\n",
    "        print(\"Epoch \" + str(ep))\n",
    "        for i,j,v in zip(sparse_ratings_coo.row, sparse_ratings_coo.col, sparse_ratings_coo.data):\n",
    "            err = v - Q[i,:].dot(P[j,:])\n",
    "            \n",
    "            grad_Q = 2 * (lambda2 * Q[i,:] - (err)*P[j,:])  \n",
    "            grad_P = 2 * (lambda1 * P[j,:] - (err)*Q[i,:])\n",
    "            \n",
    "            Q[i,:] -= lr * grad_Q\n",
    "            P[j,:] -= lr * grad_P                                           \n",
    "                                                       \n",
    "    return Q,P    "
   ]
  },
  {
   "cell_type": "code",
   "execution_count": 15,
   "metadata": {
    "collapsed": true
   },
   "outputs": [],
   "source": [
    "def latent_factor_predict(sparse_test_coo, Q, P):\n",
    "    \"\"\" Get the ratings for the test data points using the learnt Q and P matrices\n",
    "    \"\"\"\n",
    "    pred = []\n",
    "    \n",
    "    for i,j in zip(sparse_test_coo.row, sparse_test_coo.col):\n",
    "        pred.append(Q[i,:].dot(P[j,:]))\n",
    "    \n",
    "    return pred"
   ]
  },
  {
   "cell_type": "code",
   "execution_count": 18,
   "metadata": {
    "collapsed": false
   },
   "outputs": [
    {
     "name": "stdout",
     "output_type": "stream",
     "text": [
      "Epoch 1\n"
     ]
    }
   ],
   "source": [
    "Q,P = latent_factor(sparse_train,epochs=1)"
   ]
  },
  {
   "cell_type": "code",
   "execution_count": 20,
   "metadata": {
    "collapsed": false
   },
   "outputs": [
    {
     "name": "stdout",
     "output_type": "stream",
     "text": [
      "2.50487430969\n"
     ]
    }
   ],
   "source": [
    "pred = latent_factor_predict(sparse_test, Q, P)\n",
    "actual = sparse_test.data\n",
    "mse = mean_squared_error(pred,actual)\n",
    "print(mse)"
   ]
  },
  {
   "cell_type": "code",
   "execution_count": 26,
   "metadata": {
    "collapsed": false
   },
   "outputs": [
    {
     "name": "stdout",
     "output_type": "stream",
     "text": [
      "17\n",
      "  (1, 0)\t0.192160153478\n",
      "  (1, 4)\t0.931613711497\n",
      "  (8, 2)\t0.899914321873\n",
      "  (6, 4)\t0.927588282635\n",
      "  (2, 1)\t0.544007712114\n",
      "  (4, 4)\t0.2008087566\n",
      "  (4, 2)\t0.310863129116\n",
      "  (4, 3)\t0.610998632784\n",
      "  (0, 0)\t0.336660192172\n",
      "  (9, 1)\t0.160311436188\n",
      "  (2, 5)\t0.0465962755326\n",
      "  (4, 0)\t0.281276183295\n",
      "  (3, 2)\t0.331769992642\n",
      "  (2, 3)\t0.462017330272\n",
      "  (6, 6)\t0.177778118874\n",
      "  (2, 4)\t0.400253235155\n",
      "  (6, 1)\t0.945580065076\n"
     ]
    }
   ],
   "source": [
    "# Generate a toy sparse matrix for trying out methods\n",
    "\n",
    "trial_mat_coo = sparse.random(10,7,density=0.25)\n",
    "print(trial_mat_coo.nnz)\n",
    "print(trial_mat_coo)\n"
   ]
  },
  {
   "cell_type": "code",
   "execution_count": 60,
   "metadata": {
    "collapsed": false
   },
   "outputs": [
    {
     "name": "stdout",
     "output_type": "stream",
     "text": [
      "(1, 7)\n"
     ]
    }
   ],
   "source": [
    "trial_mat_csr = trial_mat_coo.tocsr()\n",
    "sample_row = trial_mat_csr.getrow(1).toarray()\n",
    "print(sample_row.shape)"
   ]
  },
  {
   "cell_type": "code",
   "execution_count": 39,
   "metadata": {
    "collapsed": false
   },
   "outputs": [
    {
     "name": "stdout",
     "output_type": "stream",
     "text": [
      "  (0, 6)\t0.864153962726\n",
      "  (0, 2)\t0.372881401941\n",
      "  (0, 4)\t0.241126265589\n",
      "  (0, 1)\t0.904829632034\n",
      "  (0, 0)\t0.0646926741975\n",
      "(1, 10)\n",
      "<class 'scipy.sparse.csr.csr_matrix'>\n"
     ]
    }
   ],
   "source": [
    "similarity = sample_row.dot(trial_mat_csr.transpose())\n",
    "print(similarity)\n",
    "print(similarity.shape)\n",
    "print(type(similarity))"
   ]
  },
  {
   "cell_type": "code",
   "execution_count": 34,
   "metadata": {
    "collapsed": false
   },
   "outputs": [
    {
     "name": "stdout",
     "output_type": "stream",
     "text": [
      "  (0, 0)\t0.0646926741975\n",
      "  (0, 1)\t0.904829632034\n",
      "  (0, 2)\t0.372881401941\n",
      "  (0, 4)\t0.241126265589\n",
      "  (0, 6)\t0.864153962726\n"
     ]
    }
   ],
   "source": [
    "similarity.sort_indices() # Sorts indices, not the values\n",
    "print(similarity)"
   ]
  },
  {
   "cell_type": "code",
   "execution_count": 35,
   "metadata": {
    "collapsed": false
   },
   "outputs": [
    {
     "name": "stdout",
     "output_type": "stream",
     "text": [
      "<class 'numpy.matrixlib.defmatrix.matrix'>\n",
      "(1, 10)\n",
      "[[ 0.06469267  0.90482963  0.3728814   0.          0.24112627  0.\n",
      "   0.86415396  0.          0.          0.        ]]\n"
     ]
    }
   ],
   "source": [
    "sim_dense = similarity.todense()\n",
    "print(type(sim_dense))\n",
    "print(sim_dense.shape)\n",
    "print(sim_dense)"
   ]
  },
  {
   "cell_type": "code",
   "execution_count": 44,
   "metadata": {
    "collapsed": false
   },
   "outputs": [
    {
     "name": "stdout",
     "output_type": "stream",
     "text": [
      "[[ 0.06469267  0.90482963  0.3728814   0.          0.24112626  0.\n",
      "   0.86415396  0.          0.          0.        ]]\n",
      "[[ 0.06469267  0.90482963  0.3728814   0.          0.24112626  0.\n",
      "   0.86415396  0.          0.          0.        ]]\n",
      "(1, 10)\n",
      "<class 'numpy.matrixlib.defmatrix.matrix'>\n",
      "[ 0.06469267  0.90482963  0.3728814   0.          0.24112626  0.\n",
      "  0.86415396  0.          0.          0.        ]\n",
      "(10,)\n"
     ]
    }
   ],
   "source": [
    "#norms = np.random.uniform(0,1,size=sim_dense.shape)\n",
    "norms = np.ones(similarity.shape)\n",
    "print(similarity)\n",
    "similarity /= (norms + 1e-9)\n",
    "print(similarity)\n",
    "print(similarity.shape)\n",
    "print(type(similarity))\n",
    "sim_np = np.array(similarity).reshape(-1)\n",
    "print(sim_np)\n",
    "print(sim_np.shape)\n",
    "sim_np.arg"
   ]
  },
  {
   "cell_type": "code",
   "execution_count": 45,
   "metadata": {
    "collapsed": true
   },
   "outputs": [],
   "source": [
    "def compute_norms(sparse_train_csr):\n",
    "    \"\"\" Compute the norm of the rating vector for each user.\n",
    "        These norm values will be used for normalizing during computation of cosine similarity\n",
    "    \"\"\"\n",
    "    n_users = sparse_train_csr.shape[0]\n",
    "    norms = np.empty(shape=(n_users,),dtype=np.float64)\n",
    "    \n",
    "    for i in range(n_users):\n",
    "        row = sparse_train_csr.getrow(i)\n",
    "        #getrow returns a 1 x n vector. Dot product gives a 1 x 1 numpy array and then we index using [0,0] to get a scalar\n",
    "        norms[i] = np.sqrt(row.dot(row.T))[0,0]\n",
    "    return norms    "
   ]
  },
  {
   "cell_type": "code",
   "execution_count": 50,
   "metadata": {
    "collapsed": true
   },
   "outputs": [],
   "source": [
    "def user_sim(userid, sparse_train_csr, norms):\n",
    "    \"\"\" Compute the similarity between a particular user and all other users\n",
    "        return an array/list containing the similarity with all other users\n",
    "    \"\"\"\n",
    "    row = sparse_train_csr.getrow(userid)\n",
    "    sim = row.dot(sparse_train_csr.transpose())\n",
    "    \n",
    "    sim /= (norms[userid] + 1e-9)\n",
    "    sim /= (norms + 1e-9)\n",
    "    \n",
    "    #Convert from np.matrix datatype to a numpy ndarray, reshape to a vector and then return\n",
    "    return np.array(sim).reshape(-1)    \n"
   ]
  },
  {
   "cell_type": "code",
   "execution_count": 69,
   "metadata": {
    "collapsed": true
   },
   "outputs": [],
   "source": [
    "def user_cf(userid, user_avg, user_sim, sparse_train_csr, k=100):\n",
    "    \"\"\" user_sim is a numpy array of shape (n_users,)\n",
    "    \"\"\"\n",
    "    \n",
    "    top_k_users = user_sim.argsort()[-k-1:-1]\n",
    "    top_k_sim = user_sim[top_k_users]\n",
    "    \n",
    "    # Initialize all predictions to the average rating given by that user\n",
    "    pred = np.ones(sparse_train_csr.shape[1])\n",
    "    pred *= user_avg\n",
    "    \n",
    "    #print(pred)\n",
    "    \n",
    "    top_k_ratings = np.empty((k,sparse_train_csr.shape[1]),dtype=np.float64)\n",
    "    for i in range(k):\n",
    "        top_k_ratings[i] = sparse_train_csr.getrow(top_k_users[i]).toarray()\n",
    "        \n",
    "    #print(top_k_ratings)    \n",
    "        \n",
    "    # Map of non-zero rating entries\n",
    "    ratings_map = (top_k_ratings !=0).astype(int)\n",
    "    #print(ratings_map)\n",
    "    \n",
    "    normalizer = top_k_sim.reshape((1,-1)).dot(ratings_map)\n",
    "    #print(normalizer.shape)\n",
    "    \n",
    "    # pred is of shape (n_items,) and the other operand is of shape (1,n_items), hence the indexing [0,:]\n",
    "    pred += (top_k_sim.reshape((1,-1)).dot(top_k_ratings) / (normalizer + 1e-9))[0,:]\n",
    "    return pred"
   ]
  },
  {
   "cell_type": "code",
   "execution_count": 61,
   "metadata": {
    "collapsed": false
   },
   "outputs": [],
   "source": [
    "# Test above three methods on a toy example\n",
    "trial_mat_coo = sparse.random(10,7,density=0.25)\n",
    "trial_mat_csr = trial_mat_coo.tocsr()\n",
    "\n",
    "# trial_norms = compute_norms(trial_mat_csr)\n",
    "# print(trial_norms.shape)\n",
    "# print(trial_norms)\n",
    "\n",
    "# trial_usim = user_sim(1, trial_mat_csr, trial_norms)\n",
    "# print(trial_usim.shape)\n",
    "# print(trial_usim)\n",
    "\n",
    "# trial_pred=user_cf(1, 5.0, trial_usim, trial_mat_csr, k=5)\n",
    "# print(trial_pred.shape)\n",
    "# print(trial_pred)\n",
    "\n",
    "trial_test_coo = sparse.random(10,7, density=0.15)\n",
    "trial_test_csr = trial_test_coo.tocsr()"
   ]
  },
  {
   "cell_type": "code",
   "execution_count": 72,
   "metadata": {
    "collapsed": false
   },
   "outputs": [],
   "source": [
    "def compute_usercf_MSE(sparse_train_csr, sparse_test_csr, k=100):    \n",
    "    \"\"\" Compute MSE on the held out test data\n",
    "    \"\"\"\n",
    "    # Compute the average rating for each user\n",
    "    data_useravg = np.empty(shape=data.shape,dtype=np.float64)\n",
    "    for user_num in range(indptr.shape[0] - 1):\n",
    "        data_useravg[indptr[user_num]: indptr[user_num + 1]] = user_sum[user_num,0] / (indptr[user_num + 1] - indptr[user_num])\n",
    "    \n",
    "    norms = compute_norms(sparse_train_csr)    \n",
    "    n_users = sparse_train_csr.shape[0]\n",
    "    \n",
    "    total_mse = 0\n",
    "    \n",
    "    for user in range(n_users):\n",
    "        usim = user_sim(user, sparse_train_csr, norms)\n",
    "        pred = user_cf(user, data_useravg[user], usim, sparse_train_csr,k)\n",
    "        \n",
    "        actual = sparse_test_csr.getrow(user).toarray().squeeze(axis=0)\n",
    "        test_mask = (actual != 0).astype(int)\n",
    "        \n",
    "        pred = pred * test_mask\n",
    "        mse_user = mean_squared_error(pred,actual)\n",
    "        \n",
    "        total_mse += (mse_user * np.count_nonzero(actual))\n",
    "        \n",
    "    return total_mse/sparse_test_csr.nnz             "
   ]
  },
  {
   "cell_type": "code",
   "execution_count": 71,
   "metadata": {
    "collapsed": false
   },
   "outputs": [
    {
     "name": "stdout",
     "output_type": "stream",
     "text": [
      "2.74132967815\n"
     ]
    }
   ],
   "source": [
    "trial_mse = compute_usercf_MSE(trial_mat_csr, trial_test_csr)\n",
    "print(trial_mse)"
   ]
  },
  {
   "cell_type": "code",
   "execution_count": 73,
   "metadata": {
    "collapsed": false
   },
   "outputs": [
    {
     "ename": "KeyboardInterrupt",
     "evalue": "",
     "output_type": "error",
     "traceback": [
      "\u001b[0;31m---------------------------------------------------------------------------\u001b[0m",
      "\u001b[0;31mKeyboardInterrupt\u001b[0m                         Traceback (most recent call last)",
      "\u001b[0;32m<ipython-input-73-4afa954f3ddb>\u001b[0m in \u001b[0;36m<module>\u001b[0;34m()\u001b[0m\n\u001b[1;32m      1\u001b[0m \u001b[0msparse_test_csr\u001b[0m \u001b[0;34m=\u001b[0m \u001b[0msparse_test\u001b[0m\u001b[0;34m.\u001b[0m\u001b[0mtocsr\u001b[0m\u001b[0;34m(\u001b[0m\u001b[0;34m)\u001b[0m\u001b[0;34m\u001b[0m\u001b[0m\n\u001b[0;32m----> 2\u001b[0;31m \u001b[0mucf_mse\u001b[0m \u001b[0;34m=\u001b[0m \u001b[0mcompute_usercf_MSE\u001b[0m\u001b[0;34m(\u001b[0m\u001b[0msparse_train_ucentered\u001b[0m\u001b[0;34m,\u001b[0m \u001b[0msparse_test_csr\u001b[0m\u001b[0;34m,\u001b[0m \u001b[0;36m100\u001b[0m\u001b[0;34m)\u001b[0m\u001b[0;34m\u001b[0m\u001b[0m\n\u001b[0m\u001b[1;32m      3\u001b[0m \u001b[0mprint\u001b[0m\u001b[0;34m(\u001b[0m\u001b[0mucf_mse\u001b[0m\u001b[0;34m)\u001b[0m\u001b[0;34m\u001b[0m\u001b[0m\n",
      "\u001b[0;32m<ipython-input-72-5878a628254e>\u001b[0m in \u001b[0;36mcompute_usercf_MSE\u001b[0;34m(sparse_train_csr, sparse_test_csr, k)\u001b[0m\n\u001b[1;32m     13\u001b[0m \u001b[0;34m\u001b[0m\u001b[0m\n\u001b[1;32m     14\u001b[0m     \u001b[0;32mfor\u001b[0m \u001b[0muser\u001b[0m \u001b[0;32min\u001b[0m \u001b[0mrange\u001b[0m\u001b[0;34m(\u001b[0m\u001b[0mn_users\u001b[0m\u001b[0;34m)\u001b[0m\u001b[0;34m:\u001b[0m\u001b[0;34m\u001b[0m\u001b[0m\n\u001b[0;32m---> 15\u001b[0;31m         \u001b[0musim\u001b[0m \u001b[0;34m=\u001b[0m \u001b[0muser_sim\u001b[0m\u001b[0;34m(\u001b[0m\u001b[0muser\u001b[0m\u001b[0;34m,\u001b[0m \u001b[0msparse_train_csr\u001b[0m\u001b[0;34m,\u001b[0m \u001b[0mnorms\u001b[0m\u001b[0;34m)\u001b[0m\u001b[0;34m\u001b[0m\u001b[0m\n\u001b[0m\u001b[1;32m     16\u001b[0m         \u001b[0mpred\u001b[0m \u001b[0;34m=\u001b[0m \u001b[0muser_cf\u001b[0m\u001b[0;34m(\u001b[0m\u001b[0muser\u001b[0m\u001b[0;34m,\u001b[0m \u001b[0mdata_useravg\u001b[0m\u001b[0;34m[\u001b[0m\u001b[0muser\u001b[0m\u001b[0;34m]\u001b[0m\u001b[0;34m,\u001b[0m \u001b[0musim\u001b[0m\u001b[0;34m,\u001b[0m \u001b[0msparse_train_csr\u001b[0m\u001b[0;34m,\u001b[0m\u001b[0mk\u001b[0m\u001b[0;34m)\u001b[0m\u001b[0;34m\u001b[0m\u001b[0m\n\u001b[1;32m     17\u001b[0m \u001b[0;34m\u001b[0m\u001b[0m\n",
      "\u001b[0;32m<ipython-input-50-6237ce0affce>\u001b[0m in \u001b[0;36muser_sim\u001b[0;34m(userid, sparse_train_csr, norms)\u001b[0m\n\u001b[1;32m      4\u001b[0m     \"\"\"\n\u001b[1;32m      5\u001b[0m     \u001b[0mrow\u001b[0m \u001b[0;34m=\u001b[0m \u001b[0msparse_train_csr\u001b[0m\u001b[0;34m.\u001b[0m\u001b[0mgetrow\u001b[0m\u001b[0;34m(\u001b[0m\u001b[0muserid\u001b[0m\u001b[0;34m)\u001b[0m\u001b[0;34m\u001b[0m\u001b[0m\n\u001b[0;32m----> 6\u001b[0;31m     \u001b[0msim\u001b[0m \u001b[0;34m=\u001b[0m \u001b[0mrow\u001b[0m\u001b[0;34m.\u001b[0m\u001b[0mdot\u001b[0m\u001b[0;34m(\u001b[0m\u001b[0msparse_train_csr\u001b[0m\u001b[0;34m.\u001b[0m\u001b[0mtranspose\u001b[0m\u001b[0;34m(\u001b[0m\u001b[0;34m)\u001b[0m\u001b[0;34m)\u001b[0m\u001b[0;34m\u001b[0m\u001b[0m\n\u001b[0m\u001b[1;32m      7\u001b[0m \u001b[0;34m\u001b[0m\u001b[0m\n\u001b[1;32m      8\u001b[0m     \u001b[0msim\u001b[0m \u001b[0;34m/=\u001b[0m \u001b[0;34m(\u001b[0m\u001b[0mnorms\u001b[0m\u001b[0;34m[\u001b[0m\u001b[0muserid\u001b[0m\u001b[0;34m]\u001b[0m \u001b[0;34m+\u001b[0m \u001b[0;36m1e-9\u001b[0m\u001b[0;34m)\u001b[0m\u001b[0;34m\u001b[0m\u001b[0m\n",
      "\u001b[0;32m/Users/prateek/anaconda/lib/python3.5/site-packages/scipy/sparse/base.py\u001b[0m in \u001b[0;36mdot\u001b[0;34m(self, other)\u001b[0m\n\u001b[1;32m    300\u001b[0m \u001b[0;34m\u001b[0m\u001b[0m\n\u001b[1;32m    301\u001b[0m         \"\"\"\n\u001b[0;32m--> 302\u001b[0;31m         \u001b[0;32mreturn\u001b[0m \u001b[0mself\u001b[0m \u001b[0;34m*\u001b[0m \u001b[0mother\u001b[0m\u001b[0;34m\u001b[0m\u001b[0m\n\u001b[0m\u001b[1;32m    303\u001b[0m \u001b[0;34m\u001b[0m\u001b[0m\n\u001b[1;32m    304\u001b[0m     \u001b[0;32mdef\u001b[0m \u001b[0mpower\u001b[0m\u001b[0;34m(\u001b[0m\u001b[0mself\u001b[0m\u001b[0;34m,\u001b[0m \u001b[0mn\u001b[0m\u001b[0;34m,\u001b[0m \u001b[0mdtype\u001b[0m\u001b[0;34m=\u001b[0m\u001b[0;32mNone\u001b[0m\u001b[0;34m)\u001b[0m\u001b[0;34m:\u001b[0m\u001b[0;34m\u001b[0m\u001b[0m\n",
      "\u001b[0;32m/Users/prateek/anaconda/lib/python3.5/site-packages/scipy/sparse/base.py\u001b[0m in \u001b[0;36m__mul__\u001b[0;34m(self, other)\u001b[0m\n\u001b[1;32m    367\u001b[0m             \u001b[0;32mif\u001b[0m \u001b[0mself\u001b[0m\u001b[0;34m.\u001b[0m\u001b[0mshape\u001b[0m\u001b[0;34m[\u001b[0m\u001b[0;36m1\u001b[0m\u001b[0;34m]\u001b[0m \u001b[0;34m!=\u001b[0m \u001b[0mother\u001b[0m\u001b[0;34m.\u001b[0m\u001b[0mshape\u001b[0m\u001b[0;34m[\u001b[0m\u001b[0;36m0\u001b[0m\u001b[0;34m]\u001b[0m\u001b[0;34m:\u001b[0m\u001b[0;34m\u001b[0m\u001b[0m\n\u001b[1;32m    368\u001b[0m                 \u001b[0;32mraise\u001b[0m \u001b[0mValueError\u001b[0m\u001b[0;34m(\u001b[0m\u001b[0;34m'dimension mismatch'\u001b[0m\u001b[0;34m)\u001b[0m\u001b[0;34m\u001b[0m\u001b[0m\n\u001b[0;32m--> 369\u001b[0;31m             \u001b[0;32mreturn\u001b[0m \u001b[0mself\u001b[0m\u001b[0;34m.\u001b[0m\u001b[0m_mul_sparse_matrix\u001b[0m\u001b[0;34m(\u001b[0m\u001b[0mother\u001b[0m\u001b[0;34m)\u001b[0m\u001b[0;34m\u001b[0m\u001b[0m\n\u001b[0m\u001b[1;32m    370\u001b[0m \u001b[0;34m\u001b[0m\u001b[0m\n\u001b[1;32m    371\u001b[0m         \u001b[0;31m# If it's a list or whatever, treat it like a matrix\u001b[0m\u001b[0;34m\u001b[0m\u001b[0;34m\u001b[0m\u001b[0m\n",
      "\u001b[0;32m/Users/prateek/anaconda/lib/python3.5/site-packages/scipy/sparse/compressed.py\u001b[0m in \u001b[0;36m_mul_sparse_matrix\u001b[0;34m(self, other)\u001b[0m\n\u001b[1;32m    518\u001b[0m \u001b[0;34m\u001b[0m\u001b[0m\n\u001b[1;32m    519\u001b[0m         \u001b[0mmajor_axis\u001b[0m \u001b[0;34m=\u001b[0m \u001b[0mself\u001b[0m\u001b[0;34m.\u001b[0m\u001b[0m_swap\u001b[0m\u001b[0;34m(\u001b[0m\u001b[0;34m(\u001b[0m\u001b[0mM\u001b[0m\u001b[0;34m,\u001b[0m\u001b[0mN\u001b[0m\u001b[0;34m)\u001b[0m\u001b[0;34m)\u001b[0m\u001b[0;34m[\u001b[0m\u001b[0;36m0\u001b[0m\u001b[0;34m]\u001b[0m\u001b[0;34m\u001b[0m\u001b[0m\n\u001b[0;32m--> 520\u001b[0;31m         \u001b[0mother\u001b[0m \u001b[0;34m=\u001b[0m \u001b[0mself\u001b[0m\u001b[0;34m.\u001b[0m\u001b[0m__class__\u001b[0m\u001b[0;34m(\u001b[0m\u001b[0mother\u001b[0m\u001b[0;34m)\u001b[0m  \u001b[0;31m# convert to this format\u001b[0m\u001b[0;34m\u001b[0m\u001b[0m\n\u001b[0m\u001b[1;32m    521\u001b[0m \u001b[0;34m\u001b[0m\u001b[0m\n\u001b[1;32m    522\u001b[0m         idx_dtype = get_index_dtype((self.indptr, self.indices,\n",
      "\u001b[0;32m/Users/prateek/anaconda/lib/python3.5/site-packages/scipy/sparse/compressed.py\u001b[0m in \u001b[0;36m__init__\u001b[0;34m(self, arg1, shape, dtype, copy)\u001b[0m\n\u001b[1;32m     30\u001b[0m                 \u001b[0marg1\u001b[0m \u001b[0;34m=\u001b[0m \u001b[0marg1\u001b[0m\u001b[0;34m.\u001b[0m\u001b[0mcopy\u001b[0m\u001b[0;34m(\u001b[0m\u001b[0;34m)\u001b[0m\u001b[0;34m\u001b[0m\u001b[0m\n\u001b[1;32m     31\u001b[0m             \u001b[0;32melse\u001b[0m\u001b[0;34m:\u001b[0m\u001b[0;34m\u001b[0m\u001b[0m\n\u001b[0;32m---> 32\u001b[0;31m                 \u001b[0marg1\u001b[0m \u001b[0;34m=\u001b[0m \u001b[0marg1\u001b[0m\u001b[0;34m.\u001b[0m\u001b[0masformat\u001b[0m\u001b[0;34m(\u001b[0m\u001b[0mself\u001b[0m\u001b[0;34m.\u001b[0m\u001b[0mformat\u001b[0m\u001b[0;34m)\u001b[0m\u001b[0;34m\u001b[0m\u001b[0m\n\u001b[0m\u001b[1;32m     33\u001b[0m             \u001b[0mself\u001b[0m\u001b[0;34m.\u001b[0m\u001b[0m_set_self\u001b[0m\u001b[0;34m(\u001b[0m\u001b[0marg1\u001b[0m\u001b[0;34m)\u001b[0m\u001b[0;34m\u001b[0m\u001b[0m\n\u001b[1;32m     34\u001b[0m \u001b[0;34m\u001b[0m\u001b[0m\n",
      "\u001b[0;32m/Users/prateek/anaconda/lib/python3.5/site-packages/scipy/sparse/base.py\u001b[0m in \u001b[0;36masformat\u001b[0;34m(self, format)\u001b[0m\n\u001b[1;32m    265\u001b[0m             \u001b[0;32mreturn\u001b[0m \u001b[0mself\u001b[0m\u001b[0;34m\u001b[0m\u001b[0m\n\u001b[1;32m    266\u001b[0m         \u001b[0;32melse\u001b[0m\u001b[0;34m:\u001b[0m\u001b[0;34m\u001b[0m\u001b[0m\n\u001b[0;32m--> 267\u001b[0;31m             \u001b[0;32mreturn\u001b[0m \u001b[0mgetattr\u001b[0m\u001b[0;34m(\u001b[0m\u001b[0mself\u001b[0m\u001b[0;34m,\u001b[0m \u001b[0;34m'to'\u001b[0m \u001b[0;34m+\u001b[0m \u001b[0mformat\u001b[0m\u001b[0;34m)\u001b[0m\u001b[0;34m(\u001b[0m\u001b[0;34m)\u001b[0m\u001b[0;34m\u001b[0m\u001b[0m\n\u001b[0m\u001b[1;32m    268\u001b[0m \u001b[0;34m\u001b[0m\u001b[0m\n\u001b[1;32m    269\u001b[0m     \u001b[0;31m###################################################################\u001b[0m\u001b[0;34m\u001b[0m\u001b[0;34m\u001b[0m\u001b[0m\n",
      "\u001b[0;32m/Users/prateek/anaconda/lib/python3.5/site-packages/scipy/sparse/csc.py\u001b[0m in \u001b[0;36mtocsr\u001b[0;34m(self, copy)\u001b[0m\n\u001b[1;32m    151\u001b[0m                   \u001b[0mindptr\u001b[0m\u001b[0;34m,\u001b[0m\u001b[0;34m\u001b[0m\u001b[0m\n\u001b[1;32m    152\u001b[0m                   \u001b[0mindices\u001b[0m\u001b[0;34m,\u001b[0m\u001b[0;34m\u001b[0m\u001b[0m\n\u001b[0;32m--> 153\u001b[0;31m                   data)\n\u001b[0m\u001b[1;32m    154\u001b[0m \u001b[0;34m\u001b[0m\u001b[0m\n\u001b[1;32m    155\u001b[0m         \u001b[0;32mfrom\u001b[0m \u001b[0;34m.\u001b[0m\u001b[0mcsr\u001b[0m \u001b[0;32mimport\u001b[0m \u001b[0mcsr_matrix\u001b[0m\u001b[0;34m\u001b[0m\u001b[0m\n",
      "\u001b[0;31mKeyboardInterrupt\u001b[0m: "
     ]
    }
   ],
   "source": [
    "sparse_test_csr = sparse_test.tocsr()\n",
    "ucf_mse = compute_usercf_MSE(sparse_train_ucentered, sparse_test_csr, 100)\n",
    "print(ucf_mse)"
   ]
  },
  {
   "cell_type": "code",
   "execution_count": null,
   "metadata": {
    "collapsed": true
   },
   "outputs": [],
   "source": []
  }
 ],
 "metadata": {
  "anaconda-cloud": {},
  "kernelspec": {
   "display_name": "Python [default]",
   "language": "python",
   "name": "python3"
  },
  "language_info": {
   "codemirror_mode": {
    "name": "ipython",
    "version": 3
   },
   "file_extension": ".py",
   "mimetype": "text/x-python",
   "name": "python",
   "nbconvert_exporter": "python",
   "pygments_lexer": "ipython3",
   "version": "3.5.2"
  }
 },
 "nbformat": 4,
 "nbformat_minor": 1
}
